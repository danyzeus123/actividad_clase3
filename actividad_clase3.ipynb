{
 "cells": [
  {
   "cell_type": "markdown",
   "metadata": {},
   "source": [
    "# Actividad de Clase 3: Manipulación de Repositorios y Archivos en GitHub\n",
    "\n",
    "## Ejercicios de Datos Simples:\n",
    "\n",
    "### 1.Datos Simples\n",
    "\n",
    "#### Crear una lista de nombres de ciudades.\n",
    "\n"
   ]
  },
  {
   "cell_type": "code",
   "execution_count": 96,
   "metadata": {},
   "outputs": [
    {
     "name": "stdout",
     "output_type": "stream",
     "text": [
      "['Ushuaia', 'Jujuy', 'Misiones', 'La Plata', 'Tucumán']\n"
     ]
    }
   ],
   "source": [
    "ciudades = [\"Ushuaia\", \"Jujuy\", \"Misiones\", \"La Plata\", \"Tucumán\"]\n",
    "print(ciudades)\n"
   ]
  },
  {
   "cell_type": "markdown",
   "metadata": {},
   "source": [
    "### 1.Datos Simples\n",
    "\n",
    "#### Crear un diccionario con información de empleados (nombre, cargo, salario).\n"
   ]
  },
  {
   "cell_type": "code",
   "execution_count": 97,
   "metadata": {},
   "outputs": [
    {
     "name": "stdout",
     "output_type": "stream",
     "text": [
      "nombre Daniel cargo Gerente salario 45000\n",
      "nombre Matias cargo Desarrollador salario 30000\n",
      "nombre Leonardo cargo Analista de Datos salario 42000\n",
      "nombre Monica cargo Diseñadora  salario 65000\n"
     ]
    }
   ],
   "source": [
    "empleados = {\n",
    "    1: {\"nombre\": \"Daniel\", \"cargo\": \"Gerente\", \"salario\": 45000},\n",
    "    2: {\"nombre\": \"Matias\", \"cargo\": \"Desarrollador\", \"salario\": 30000},\n",
    "    3: {\"nombre\": \"Leonardo\", \"cargo\": \"Analista de Datos\", \"salario\": 42000},\n",
    "    4: {\"nombre\": \"Monica\", \"cargo\": \"Diseñadora \", \"salario\": 65000}\n",
    "}\n",
    "print(\"nombre\", \"Daniel\", \"cargo\", \"Gerente\", \"salario\", \"45000\")\n",
    "print(\"nombre\", \"Matias\", \"cargo\", \"Desarrollador\", \"salario\", \"30000\")\n",
    "print(\"nombre\", \"Leonardo\", \"cargo\", \"Analista de Datos\", \"salario\", \"42000\")\n",
    "print(\"nombre\", \"Monica\", \"cargo\", \"Diseñadora \", \"salario\", \"65000\")"
   ]
  },
  {
   "cell_type": "markdown",
   "metadata": {},
   "source": []
  },
  {
   "cell_type": "markdown",
   "metadata": {},
   "source": [
    "### 1.Datos Simples\n",
    "\n",
    "#### Mostrar cómo acceder a un elemento específico en una lista "
   ]
  },
  {
   "cell_type": "code",
   "execution_count": 98,
   "metadata": {},
   "outputs": [
    {
     "name": "stdout",
     "output_type": "stream",
     "text": [
      "Segundo nombre en la lista: Matias\n"
     ]
    }
   ],
   "source": [
    "nombres = [\"Daniel\", \"Matias\", \"Leonardo\", \"Monica\"]\n",
    "segundo_nombre = nombres[1]\n",
    "print(\"Segundo nombre en la lista:\", segundo_nombre)\n"
   ]
  },
  {
   "cell_type": "markdown",
   "metadata": {},
   "source": [
    "### 1.Datos Simples\n",
    "\n",
    "### 1.Manipulación de Listas y Métodos:\n",
    "\n",
    "#### Crea una lista inicial de números enteros.\n"
   ]
  },
  {
   "cell_type": "markdown",
   "metadata": {},
   "source": []
  },
  {
   "cell_type": "code",
   "execution_count": 99,
   "metadata": {},
   "outputs": [
    {
     "name": "stdout",
     "output_type": "stream",
     "text": [
      "Después de agregar un número al final: [5, 10, 15, 20, 25]\n",
      "Después de agregar múltiples elementos: [5, 10, 15, 20, 25, 30, 35, 40]\n",
      "Después de insertar un número en una posición específica: [5, 10, 12, 15, 20, 25, 30, 35, 40]\n",
      "Después de ordenar la lista de números de forma ascendente: [5, 10, 12, 15, 20, 25, 30, 35, 40]\n"
     ]
    }
   ],
   "source": [
    "numeros = [5, 10, 15, 20]\n",
    "\n",
    "numeros.append(25)\n",
    "print(\"Después de agregar un número al final:\", numeros)\n",
    "\n",
    "numeros.extend([30, 35, 40])\n",
    "print(\"Después de agregar múltiples elementos:\", numeros)\n",
    "\n",
    "numeros.insert(2, 12) \n",
    "print(\"Después de insertar un número en una posición específica:\", numeros)\n",
    "\n",
    "numeros.sort()\n",
    "print(\"Después de ordenar la lista de números de forma ascendente:\", numeros)\n"
   ]
  },
  {
   "cell_type": "markdown",
   "metadata": {},
   "source": [
    "### 1.Datos Simples\n",
    "\n",
    "### 2.Manipulación de Diccionarios y Métodos:\n",
    "\n",
    "#### Crea un diccionario con información de productos (nombre del producto, precio, cantidad en stock).\n"
   ]
  },
  {
   "cell_type": "code",
   "execution_count": 100,
   "metadata": {},
   "outputs": [
    {
     "name": "stdout",
     "output_type": "stream",
     "text": [
      "Nombres de productos: ['remera', 'zapatilla', 'pantalon']\n",
      "Valores de productos: [{'precio': 20000, 'cantidad en stock': 50}, {'precio': 65000, 'cantidad en stock': 30}, {'precio': 60000, 'cantidad en stock': 20}]\n",
      "Pares clave-valor de productos: [('remera', {'precio': 20000, 'cantidad en stock': 50}), ('zapatilla', {'precio': 65000, 'cantidad en stock': 30}), ('pantalon', {'precio': 60000, 'cantidad en stock': 20})]\n",
      "Precio de la remera: 20000\n"
     ]
    }
   ],
   "source": [
    "productos = {\n",
    "    \"remera\": {\"precio\": 20000, \"cantidad en stock\": 50},\n",
    "    \"zapatilla\": {\"precio\": 65000, \"cantidad en stock\": 30},\n",
    "    \"pantalon\": {\"precio\": 60000, \"cantidad en stock\": 20}\n",
    "}\n",
    "\n",
    "nombres_productos = list(productos.keys())\n",
    "print(\"Nombres de productos:\", nombres_productos)\n",
    "\n",
    "valores_productos = list(productos.values())\n",
    "print(\"Valores de productos:\", valores_productos)\n",
    "\n",
    "items_productos = list(productos.items())\n",
    "print(\"Pares clave-valor de productos:\", items_productos)\n",
    "\n",
    "precio_remera = productos.get(\"remera\").get(\"precio\")\n",
    "print(\"Precio de la remera:\", precio_remera)"
   ]
  },
  {
   "cell_type": "markdown",
   "metadata": {},
   "source": [
    "### 2.Datos Complejos:\n",
    "\n",
    "#### Crear una lista de diccionarios que represente información de libros (título, autor, año de publicación).\n"
   ]
  },
  {
   "cell_type": "code",
   "execution_count": 101,
   "metadata": {},
   "outputs": [
    {
     "name": "stdout",
     "output_type": "stream",
     "text": [
      "libros_secundaria:\n",
      "- Título: Matemáticas I\n",
      "  Autor: Pepe\n",
      "  Año de publicación: 2010\n",
      "- Título: Historia Universal\n",
      "  Autor: Jose\n",
      "  Año de publicación: 2008\n",
      "- Título: Biología Avanzada\n",
      "  Autor: Aldo\n",
      "  Año de publicación: 2015\n"
     ]
    }
   ],
   "source": [
    "libros_secundaria = [\n",
    "    {\"título\": \"Matemáticas I\", \"autor\": \"Pepe\", \"año de publicación\": 2010},\n",
    "    {\"título\": \"Historia Universal\", \"autor\": \"Jose\", \"año de publicación\": 2008},\n",
    "    {\"título\": \"Biología Avanzada\", \"autor\": \"Aldo\", \"año de publicación\": 2015}\n",
    "]\n",
    "print(\"libros_secundaria:\")\n",
    "for libros_secundaria in libros_secundaria:\n",
    "    print(\"- Título:\", libros_secundaria[\"título\"])\n",
    "    print(\"  Autor:\", libros_secundaria[\"autor\"])\n",
    "    print(\"  Año de publicación:\", libros_secundaria[\"año de publicación\"])"
   ]
  },
  {
   "cell_type": "markdown",
   "metadata": {},
   "source": [
    "### 2.Datos Complejos:\n",
    "\n",
    "#### Crear un diccionario que contenga listas como valores (por ejemplo, un diccionario de estudiantes y sus materias)."
   ]
  },
  {
   "cell_type": "code",
   "execution_count": 102,
   "metadata": {},
   "outputs": [
    {
     "name": "stdout",
     "output_type": "stream",
     "text": [
      "\n",
      "Diccionario de estudiantes y sus materias: {'Juan': ['Matemáticas', 'Física', 'Química'], 'María': ['Literatura', 'Historia', 'Arte']}\n"
     ]
    }
   ],
   "source": [
    "estudiantes_materias = {\n",
    "    \"Juan\": [\"Matemáticas\", \"Física\", \"Química\"],\n",
    "    \"María\": [\"Literatura\", \"Historia\", \"Arte\"]\n",
    "}\n",
    "\n",
    "print(\"\\nDiccionario de estudiantes y sus materias:\", estudiantes_materias)\n"
   ]
  },
  {
   "cell_type": "markdown",
   "metadata": {},
   "source": [
    "### 2.Datos Complejos:\n",
    "\n",
    "#### Mostrar cómo modificar un valor en una lista dentro de un diccionario y viceversa."
   ]
  },
  {
   "cell_type": "code",
   "execution_count": 103,
   "metadata": {},
   "outputs": [
    {
     "name": "stdout",
     "output_type": "stream",
     "text": [
      "\n",
      "Después de modificar la materia de Juan: {'Juan': ['Biología', 'Física', 'Química'], 'María': ['Literatura', 'Historia', 'Arte']}\n"
     ]
    }
   ],
   "source": [
    "\n",
    "estudiantes_materias[\"Juan\"][0] = \"Biología\"\n",
    "print(\"\\nDespués de modificar la materia de Juan:\", estudiantes_materias)\n"
   ]
  }
 ],
 "metadata": {
  "kernelspec": {
   "display_name": "Python 3",
   "language": "python",
   "name": "python3"
  },
  "language_info": {
   "codemirror_mode": {
    "name": "ipython",
    "version": 3
   },
   "file_extension": ".py",
   "mimetype": "text/x-python",
   "name": "python",
   "nbconvert_exporter": "python",
   "pygments_lexer": "ipython3",
   "version": "3.12.0"
  }
 },
 "nbformat": 4,
 "nbformat_minor": 2
}
